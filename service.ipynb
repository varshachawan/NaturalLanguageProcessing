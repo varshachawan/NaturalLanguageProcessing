{
  "nbformat": 4,
  "nbformat_minor": 0,
  "metadata": {
    "colab": {
      "name": "service.ipynb",
      "provenance": [],
      "authorship_tag": "ABX9TyOgyVAM4LQwNpb/QC0TgnSh",
      "include_colab_link": true
    },
    "kernelspec": {
      "name": "python3",
      "display_name": "Python 3"
    }
  },
  "cells": [
    {
      "cell_type": "markdown",
      "metadata": {
        "id": "view-in-github",
        "colab_type": "text"
      },
      "source": [
        "<a href=\"https://colab.research.google.com/github/varshachawan/NaturalLanguageProcessing/blob/master/service.ipynb\" target=\"_parent\"><img src=\"https://colab.research.google.com/assets/colab-badge.svg\" alt=\"Open In Colab\"/></a>"
      ]
    },
    {
      "cell_type": "code",
      "metadata": {
        "id": "AA3jqHQarh2v",
        "colab_type": "code",
        "colab": {}
      },
      "source": [
        "!pip install transformers\n",
        "import joblib\n",
        "import numpy as np\n",
        "import pandas as pd\n",
        "from sklearn.model_selection import train_test_split\n",
        "from sklearn.linear_model import LogisticRegression\n",
        "from sklearn.model_selection import GridSearchCV\n",
        "from sklearn.model_selection import cross_val_score\n",
        "import torch\n",
        "import transformers as ppb\n",
        "import warnings\n",
        "import timeit\n",
        "\n",
        "from flask import Flask, jsonify, request, make_response\n",
        "\n"
      ],
      "execution_count": 0,
      "outputs": []
    },
    {
      "cell_type": "code",
      "metadata": {
        "id": "CLwTxGO-vIt8",
        "colab_type": "code",
        "colab": {}
      },
      "source": [
        ""
      ],
      "execution_count": 0,
      "outputs": []
    },
    {
      "cell_type": "code",
      "metadata": {
        "id": "MfjYaU8htoCH",
        "colab_type": "code",
        "colab": {}
      },
      "source": [
        "def load_models():\n",
        "  model_class, tokenizer_class, pretrained_weights = (ppb.DistilBertModel, ppb.DistilBertTokenizer, 'distilbert-base-uncased')\n",
        "  tokenizer = tokenizer_class.from_pretrained(pretrained_weights)\n",
        "  model = model_class.from_pretrained(pretrained_weights)\n",
        "  loaded_model = joblib.load('SavedModel.joblib')\n",
        "\n"
      ],
      "execution_count": 0,
      "outputs": []
    },
    {
      "cell_type": "code",
      "metadata": {
        "id": "N9zEmE_EwpmH",
        "colab_type": "code",
        "colab": {}
      },
      "source": [
        "def create_embeding(text):\n",
        "  x = 'I hated the movie very much'\n",
        "  tokenized=tokenizer.encode(text, add_special_tokens=True)\n",
        "  max_len=60\n",
        "  padded = np.array([tokenized + [0]*(max_len-len(tokenized))])\n",
        "  attention_mask = np.where(padded != 0, 1, 0)\n",
        "  attention_mask.shape\n",
        "  input_ids = torch.tensor(padded)  \n",
        "  attention_mask = torch.tensor(attention_mask)\n",
        "\n",
        "  with torch.no_grad():\n",
        "    last_hidden_states = model(input_ids, attention_mask=attention_mask)\n",
        "    features = last_hidden_states[0][:,0,:].numpy()\n",
        "  return features\n"
      ],
      "execution_count": 0,
      "outputs": []
    },
    {
      "cell_type": "code",
      "metadata": {
        "id": "0BYn2v_Vwybr",
        "colab_type": "code",
        "colab": {}
      },
      "source": [
        "def predict(input_text):\n",
        "  feature_vector =create_embeding(input_text)\n",
        "  pred=loaded_model.predict(feature_vector)\n",
        "  if pred==0:\n",
        "    return 'negative'\n",
        "  else:\n",
        "    return 'positive'\n"
      ],
      "execution_count": 0,
      "outputs": []
    },
    {
      "cell_type": "code",
      "metadata": {
        "id": "hKt9Vb11skV6",
        "colab_type": "code",
        "colab": {}
      },
      "source": [
        "app = Flask(__name__)\n"
      ],
      "execution_count": 0,
      "outputs": []
    },
    {
      "cell_type": "code",
      "metadata": {
        "id": "qlYR1_wCsqf0",
        "colab_type": "code",
        "colab": {}
      },
      "source": [
        "@app.route('/predict', methods=['get'])\n",
        "def predict_sentiment():\n",
        "    text = request.get('text')\n",
        "    print(text)\n",
        "    predict = predict_fn(text)\n",
        "\n",
        "    return jsonify({'predictions': predict})\n"
      ],
      "execution_count": 0,
      "outputs": []
    },
    {
      "cell_type": "code",
      "metadata": {
        "id": "yMeKwQpfyuxu",
        "colab_type": "code",
        "colab": {}
      },
      "source": [
        ""
      ],
      "execution_count": 0,
      "outputs": []
    },
    {
      "cell_type": "code",
      "metadata": {
        "id": "LRQkhw3SsX0V",
        "colab_type": "code",
        "colab": {
          "base_uri": "https://localhost:8080/",
          "height": 126
        },
        "outputId": "f9aef547-5285-4f13-bc1e-9b56eb6be344"
      },
      "source": [
        "if __name__ == '__main__':\n",
        "    load_models()\n",
        "    app.run(host='0.0.0.0', port='5000')"
      ],
      "execution_count": 14,
      "outputs": [
        {
          "output_type": "stream",
          "text": [
            " * Serving Flask app \"__main__\" (lazy loading)\n",
            " * Environment: production\n",
            "\u001b[31m   WARNING: This is a development server. Do not use it in a production deployment.\u001b[0m\n",
            "\u001b[2m   Use a production WSGI server instead.\u001b[0m\n",
            " * Debug mode: off\n"
          ],
          "name": "stdout"
        },
        {
          "output_type": "stream",
          "text": [
            " * Running on http://0.0.0.0:5000/ (Press CTRL+C to quit)\n"
          ],
          "name": "stderr"
        }
      ]
    },
    {
      "cell_type": "code",
      "metadata": {
        "id": "_uxlzIGZxmYE",
        "colab_type": "code",
        "colab": {
          "base_uri": "https://localhost:8080/",
          "height": 35
        },
        "outputId": "23997dc5-44a3-409b-d90f-9d65ca32fce8"
      },
      "source": [
        ""
      ],
      "execution_count": 15,
      "outputs": [
        {
          "output_type": "stream",
          "text": [
            "curl: (7) Failed to connect to 0.0.0.0 port 5000: Connection refused\n"
          ],
          "name": "stdout"
        }
      ]
    }
  ]
}